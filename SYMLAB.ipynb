{
 "cells": [
  {
   "cell_type": "code",
   "execution_count": 44,
   "metadata": {},
   "outputs": [
    {
     "data": {
      "text/latex": [
       "$\\displaystyle \\left[- \\frac{3}{2}, -1\\right] \\cup \\left\\{- \\frac{1}{2}\\right\\}$"
      ],
      "text/plain": [
       "Union({-1/2}, Interval(-3/2, -1))"
      ]
     },
     "execution_count": 44,
     "metadata": {},
     "output_type": "execute_result"
    },
    {
     "data": {
      "text/latex": [
       "$\\displaystyle \\left[-1, 1 - \\sqrt{3}\\right] \\cup \\left[1 + \\sqrt{3}, 3\\right]$"
      ],
      "text/plain": [
       "Union(Interval(-1, 1 - sqrt(3)), Interval(1 + sqrt(3), 3))"
      ]
     },
     "execution_count": 44,
     "metadata": {},
     "output_type": "execute_result"
    }
   ],
   "source": [
    "##############################################\n",
    "# author: int0x19\n",
    "# date: 2025-01-25\n",
    "# file: SYMLAB.ipynb\n",
    "# description: SYMLAB\n",
    "##############################################\n",
    "\n",
    "from sympy import *\n",
    "from sympy.geometry import *\n",
    "from sympy.abc import x, y\n",
    "from sympy.plotting import plot\n",
    "from sympy.printing import pprint\n",
    "from sympy.logic import And\n",
    "from sympy import sets\n",
    "\n",
    "#同时输出多个结果\n",
    "from IPython.core.interactiveshell import InteractiveShell\n",
    "InteractiveShell.ast_node_interactivity = \"all\"\n",
    "\n",
    "# 关于直线中心对称\n",
    "def transform_line(seg: Segment, line: Line) -> Segment:\n",
    "    p1: Point2D = seg.points[0]\n",
    "    p2: Point2D = seg.points[1]\n",
    "    expr = line.equation(x=x, y=y)\n",
    "    y1 = solve(expr, y)[0]\n",
    "    # ((2*x - p1.x, 2*y1 - p2.y), (2*x - p2.x, 2*y1 - p1.y))\n",
    "    return Segment(Point(2*x - p1.x, 2*y1 - p2.y), Point(2*x - p2.x, 2*y1 - p1.y))\n",
    "\n",
    "# 关于圆中心对称\n",
    "def transform_circle(seg: Segment, line: Circle) -> Segment:\n",
    "    p1: Point2D = seg.points[0]\n",
    "    p2: Point2D = seg.points[1]\n",
    "    expr = line.equation(x=x, y=y)\n",
    "    y1 = solve(expr, y)[0]\n",
    "    # ((2*x - p1.x, 2*y1 - p2.y), (2*x - p2.x, 2*y1 - p1.y))\n",
    "    return Segment(Point(2*x - p1.x, 2*y1 - p2.y), Point(2*x - p2.x, 2*y1 - p1.y))\n",
    "\n",
    "# 带入区间求值\n",
    "def sub_interval(x_range: Set,expr) -> Set:\n",
    "    intervals = []\n",
    "    for interval in x_range.args:\n",
    "        lower_bound = expr.subs(x, interval.left)\n",
    "        upper_bound = expr.subs(x, interval.right)\n",
    "        intervals.append(Interval(lower_bound, upper_bound, left_open=interval.left_open, right_open=interval.right_open))\n",
    "\n",
    "    # 合并所有区间的取值范围\n",
    "    value_range = Union(*intervals)\n",
    "    return value_range\n",
    "\n",
    "def central_symmetry_segment(segment, center):\n",
    "    \"\"\"\n",
    "    对线段进行关于某一点的中心对称变换\n",
    "\n",
    "    :param segment: sympy 的 Segment 对象\n",
    "    :param center: 中心点，sympy 的 Point 对象\n",
    "    :return: 对称变换后的 Segment 对象\n",
    "    \"\"\"\n",
    "    # 获取线段的两个端点\n",
    "    p1, p2 = segment.points\n",
    "\n",
    "    # 计算对称变换后的端点\n",
    "    p1_sym = Point(2 * center.x - p1.x, 2 * center.y - p1.y)\n",
    "    p2_sym = Point(2 * center.x - p2.x, 2 * center.y - p2.y)\n",
    "\n",
    "    # 创建新的对称变换后的线段\n",
    "    return Segment(p1_sym, p2_sym)\n",
    "\n",
    "\n",
    "seg = Segment(Point(1, 0), Point(1, 1)) # 第2问 线段AB\n",
    "seg1 = central_symmetry_segment(seg, Point(0, 0)) #先关于原点对称\n",
    "line = Line(Point(0, 1), slope=1) #直线y=x\n",
    "t = transform_line(seg1, line) #再关于直线y=x上的每一点P对称\n",
    "p1 = t.points[0]\n",
    "p2 = t.points[1]\n",
    "# 检查是否与对称轴相交 取并集\n",
    "u1 = Union(Intersection(solveset(p1.y >= 0, x, Reals), solveset(p2.y <= 0, x, Reals)), solveset(And(Eq(p1.x, 0), Eq(p2.x,0)),x))\n",
    "\n",
    "# 第3问 OQ=1 \n",
    "circ = Circle(Point(0, 0), 1) #Q的点集\n",
    "t = transform_circle(seg1, circ) #关于每一个Q对称\n",
    "p1 = t.points[0]\n",
    "p2 = t.points[1]\n",
    "u2 = Intersection(solveset(p1.y >= 0, x, Reals), solveset(p2.y <= 0, x, Reals)) #检查是否与x轴相交\n",
    "\n",
    "u1\n",
    "sub_interval(u2,p1.x)"
   ]
  }
 ],
 "metadata": {
  "kernelspec": {
   "display_name": "Python 3",
   "language": "python",
   "name": "python3"
  },
  "language_info": {
   "codemirror_mode": {
    "name": "ipython",
    "version": 3
   },
   "file_extension": ".py",
   "mimetype": "text/x-python",
   "name": "python",
   "nbconvert_exporter": "python",
   "pygments_lexer": "ipython3",
   "version": "3.10.7"
  }
 },
 "nbformat": 4,
 "nbformat_minor": 2
}
